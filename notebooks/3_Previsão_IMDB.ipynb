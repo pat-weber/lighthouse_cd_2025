{
 "cells": [
  {
   "cell_type": "markdown",
   "id": "60bf579a-9d04-4df1-bd4d-c44258176a88",
   "metadata": {},
   "source": [
    "# Previsão nota IMDB"
   ]
  },
  {
   "cell_type": "markdown",
   "id": "0ce5193e-7222-4435-adbf-a30eecbcf4b2",
   "metadata": {},
   "source": [
    "O objetivo desta etapa do projeto é criar um modelo que preveja as notas da plataforma IMDB. Para testar, vamos inserir os dados de um novo filme e comparar com a nota real."
   ]
  },
  {
   "cell_type": "markdown",
   "id": "c1af32c8-5ac0-410b-a589-6e942dd91ca9",
   "metadata": {},
   "source": [
    "Este é um problema de regressão, pois o objetivo é uma variável continua. Vamos testar 3 modelos: Árvore de decisão, Floresta aleatória e Regressão Linear.\n"
   ]
  },
  {
   "cell_type": "code",
   "execution_count": 1,
   "id": "6181f536-2ad2-4cc4-addf-0db9050b326f",
   "metadata": {},
   "outputs": [],
   "source": [
    "# Carregando as bibliotecas\n",
    "\n",
    "import pandas as pd\n",
    "import numpy as np\n",
    "from sklearn.model_selection import train_test_split\n",
    "from sklearn.model_selection import cross_val_score\n",
    "from sklearn.linear_model import LinearRegression\n",
    "from sklearn.ensemble import RandomForestRegressor\n",
    "from sklearn.tree import DecisionTreeRegressor\n",
    "from sklearn.metrics import mean_squared_error, r2_score, mean_absolute_error\n",
    "from sklearn.preprocessing import LabelEncoder\n",
    "import pickle"
   ]
  },
  {
   "cell_type": "code",
   "execution_count": 2,
   "id": "9aea5af8-a8d3-4174-bc33-abcaae42f3ed",
   "metadata": {},
   "outputs": [
    {
     "name": "stdout",
     "output_type": "stream",
     "text": [
      "<class 'pandas.core.frame.DataFrame'>\n",
      "RangeIndex: 999 entries, 0 to 998\n",
      "Data columns (total 16 columns):\n",
      " #   Column         Non-Null Count  Dtype  \n",
      "---  ------         --------------  -----  \n",
      " 0   Unnamed: 0     999 non-null    int64  \n",
      " 1   Series_Title   999 non-null    object \n",
      " 2   Released_Year  999 non-null    object \n",
      " 3   Certificate    898 non-null    object \n",
      " 4   Runtime        999 non-null    object \n",
      " 5   Genre          999 non-null    object \n",
      " 6   IMDB_Rating    999 non-null    float64\n",
      " 7   Overview       999 non-null    object \n",
      " 8   Meta_score     842 non-null    float64\n",
      " 9   Director       999 non-null    object \n",
      " 10  Star1          999 non-null    object \n",
      " 11  Star2          999 non-null    object \n",
      " 12  Star3          999 non-null    object \n",
      " 13  Star4          999 non-null    object \n",
      " 14  No_of_Votes    999 non-null    int64  \n",
      " 15  Gross          830 non-null    object \n",
      "dtypes: float64(2), int64(2), object(12)\n",
      "memory usage: 125.0+ KB\n"
     ]
    }
   ],
   "source": [
    "# Lendo os dados\n",
    "\n",
    "df = pd.read_csv('https://raw.githubusercontent.com/pat-weber/lighthouse/main/lighthouse_project/data/desafio_indicium_imdb.csv')\n",
    "\n",
    "df.info()\n"
   ]
  },
  {
   "cell_type": "code",
   "execution_count": 3,
   "id": "c3fb065c-0097-4d07-96be-d9cd4efc2b06",
   "metadata": {},
   "outputs": [
    {
     "name": "stdout",
     "output_type": "stream",
     "text": [
      "<class 'pandas.core.frame.DataFrame'>\n",
      "RangeIndex: 999 entries, 0 to 998\n",
      "Data columns (total 16 columns):\n",
      " #   Column         Non-Null Count  Dtype  \n",
      "---  ------         --------------  -----  \n",
      " 0   unnamed: 0     999 non-null    int64  \n",
      " 1   series_title   999 non-null    object \n",
      " 2   released_year  999 non-null    int64  \n",
      " 3   certificate    898 non-null    object \n",
      " 4   runtime        999 non-null    int64  \n",
      " 5   genre          999 non-null    object \n",
      " 6   imdb_rating    999 non-null    float64\n",
      " 7   overview       999 non-null    object \n",
      " 8   meta_score     999 non-null    float64\n",
      " 9   director       999 non-null    object \n",
      " 10  star1          999 non-null    object \n",
      " 11  star2          999 non-null    object \n",
      " 12  star3          999 non-null    object \n",
      " 13  star4          999 non-null    object \n",
      " 14  no_of_votes    999 non-null    int64  \n",
      " 15  gross          999 non-null    float64\n",
      "dtypes: float64(3), int64(4), object(9)\n",
      "memory usage: 125.0+ KB\n"
     ]
    }
   ],
   "source": [
    "# Padronizando as colunas\n",
    "df.columns = df.columns.str.lower()\n",
    "df['released_year'] = df['released_year'].replace('PG', 0)\n",
    "\n",
    "# Transformando os dados dos anos em numéricos\n",
    "df['released_year'] = df['released_year'].astype(int)\n",
    "df['runtime'] = df['runtime'].str.replace('min', '').astype(int)\n",
    "df['gross'] = df['gross'].str.replace(',', '').astype(float)\n",
    "\n",
    "# Preenchendo valores ausentes\n",
    "df['gross'] = df['gross'].fillna(df['gross'].median())\n",
    "df['meta_score'] = df['meta_score'].fillna(df['meta_score'].median())\n",
    "\n",
    "df.info()"
   ]
  },
  {
   "cell_type": "markdown",
   "id": "a8677ddc-6aee-43a4-8bc8-0d5285ce709b",
   "metadata": {},
   "source": [
    "Para usar dados que estão em string no data frame, vamos transformar em numéricos através de rótulos. Vamos olhar quantas entradas únicas existem nas colunas de diretores e atores."
   ]
  },
  {
   "cell_type": "code",
   "execution_count": 4,
   "id": "003b36c2-1aea-4305-97ae-7e11451e3f9d",
   "metadata": {},
   "outputs": [
    {
     "name": "stdout",
     "output_type": "stream",
     "text": [
      "Diretores: 548\n",
      "Atores principais: 659\n",
      "Atores 2: 840\n",
      "Atores 3: 890\n",
      "Atores 4: 938\n"
     ]
    }
   ],
   "source": [
    "# Conferindo quantos diretores e atores aparecem nas colunas\n",
    "\n",
    "print('Diretores:', df['director'].nunique())\n",
    "print('Atores principais:', df['star1'].nunique())\n",
    "print('Atores 2:', df['star2'].nunique())\n",
    "print('Atores 3:',df['star3'].nunique())\n",
    "print('Atores 4:',df['star4'].nunique())"
   ]
  },
  {
   "cell_type": "markdown",
   "id": "211c9687-f2d3-4b79-a7ec-6b885dab3d83",
   "metadata": {},
   "source": [
    "Vamos usar apenas as colunas de diretor e ator principal, pois as outras três colunas de atores tem poucas entradas que se repetem e dificilmente trará informação pertinente para os modelos. "
   ]
  },
  {
   "cell_type": "code",
   "execution_count": 5,
   "id": "4c9fad9f-244f-42ae-bea9-bf1590902b08",
   "metadata": {},
   "outputs": [],
   "source": [
    "# Aplicando Label Encoder\n",
    "le = LabelEncoder()\n",
    "\n",
    "# Ajustando e transformando cada coluna de gênero\n",
    "for col in ['certificate', 'genre', 'director', 'star1']:\n",
    "    df[col] = le.fit_transform(df[col].astype(str))\n"
   ]
  },
  {
   "cell_type": "markdown",
   "id": "16123228-4896-4101-9276-bc70c641344f",
   "metadata": {},
   "source": [
    "As características que o modelo usará para a previsão são as colunas de classificação etária, ano de lançamento, tempo de duração, gênero, avaliações, número de votos e faturamento."
   ]
  },
  {
   "cell_type": "code",
   "execution_count": 6,
   "id": "b84f808c-0254-435a-b61a-c68d57016a5f",
   "metadata": {},
   "outputs": [],
   "source": [
    "# Selecionando as características e objetivo\n",
    "\n",
    "X = df[['certificate', 'released_year', 'runtime', 'genre', 'meta_score', 'no_of_votes', 'gross']]\n",
    "y = df['imdb_rating']\n",
    "\n",
    "# Dividir os dados em treino e teste\n",
    "X_train, X_test, y_train, y_test = train_test_split(X, y, test_size=0.2, random_state=42)"
   ]
  },
  {
   "cell_type": "markdown",
   "id": "2e998177-58af-44ed-9111-86d15865d41e",
   "metadata": {},
   "source": [
    "Vamos treinar os três modelos diferentes e analisar as métricas de performance."
   ]
  },
  {
   "cell_type": "markdown",
   "id": "d9bc9055-e878-449c-a235-9332e9039377",
   "metadata": {},
   "source": [
    "### Modelo Floresta Aleatória"
   ]
  },
  {
   "cell_type": "code",
   "execution_count": 7,
   "id": "f51712de-aa66-4ebd-baa8-30182c66c891",
   "metadata": {},
   "outputs": [
    {
     "name": "stdout",
     "output_type": "stream",
     "text": [
      "R² Score (Floresta Aleatória): 0.42332338065931463\n",
      "MAE: 0.1512800000000002\n"
     ]
    }
   ],
   "source": [
    "# Treinando o modelo de floresta aleatória\n",
    "rf_model = RandomForestRegressor(n_estimators=100, random_state=42)\n",
    "rf_model.fit(X_train, y_train)\n",
    "\n",
    "# Avaliar o modelo\n",
    "y_pred_rf = rf_model.predict(X_test)\n",
    "r2_rf = r2_score(y_test, y_pred_rf)\n",
    "mae_rf = mean_absolute_error(y_test, y_pred_rf)\n",
    "\n",
    "print(f'R² Score (Floresta Aleatória): {r2_rf}')\n",
    "print(f\"MAE: {mae_rf}\")"
   ]
  },
  {
   "cell_type": "markdown",
   "id": "3bbf7550-3e6f-4e65-bebd-e2991110fd1c",
   "metadata": {},
   "source": [
    "### Modelo Árvore de Decisão"
   ]
  },
  {
   "cell_type": "code",
   "execution_count": 8,
   "id": "44bc3985-9405-4b1a-b2d7-bff0c734a927",
   "metadata": {},
   "outputs": [
    {
     "name": "stdout",
     "output_type": "stream",
     "text": [
      "R² Score (Árvore de Decisão): 0.04180123088172594\n",
      "MAE: 0.18700000000000003\n"
     ]
    }
   ],
   "source": [
    "# Treinando o modelo de árvore de decisão\n",
    "tree_model = DecisionTreeRegressor(random_state=42)\n",
    "tree_model.fit(X_train, y_train)\n",
    "\n",
    "# Avaliar o modelo\n",
    "y_pred_tree = tree_model.predict(X_test)\n",
    "r2_tree = r2_score(y_test, y_pred_tree)\n",
    "mae_tree = mean_absolute_error(y_test, y_pred_tree)\n",
    "\n",
    "print(f'R² Score (Árvore de Decisão): {r2_tree}')\n",
    "print(f\"MAE: {mae_tree}\")"
   ]
  },
  {
   "cell_type": "markdown",
   "id": "5fbe8bc6-80b3-4fa4-b243-045278561cd3",
   "metadata": {},
   "source": [
    "### Modelo Regressão Linear"
   ]
  },
  {
   "cell_type": "code",
   "execution_count": 9,
   "id": "f92170d1-fde6-401a-9aaa-81397bf6cc37",
   "metadata": {},
   "outputs": [
    {
     "name": "stdout",
     "output_type": "stream",
     "text": [
      "R² Score (Regressão Linear): 0.248463686315738\n",
      "MAE: 0.18207241980919547\n"
     ]
    }
   ],
   "source": [
    "# Treinando o modelo de regressão linear\n",
    "\n",
    "rl_model = LinearRegression()\n",
    "rl_model.fit(X_train, y_train)\n",
    "\n",
    "y_pred_rl = rl_model.predict(X_test)\n",
    "r2_rl = r2_score(y_test, y_pred_rl)\n",
    "mae_rl = mean_absolute_error(y_test, y_pred_rl)\n",
    "\n",
    "print(f'R² Score (Regressão Linear): {r2_rl}')\n",
    "print(f\"MAE: {mae_rl}\")"
   ]
  },
  {
   "cell_type": "markdown",
   "id": "43a113a3-3cdc-43f2-8bfb-8553b25d177b",
   "metadata": {},
   "source": [
    "O modelo Árvore de decisão teve a pior perfomance com o valor R2 mais baixo e valor MAE mais alto. O modelo Floresta aleatória tem  o valor R2 mais alto, com 0.42, indicando que se ajusta melhor à variabilidade dos dados, o modelo Regressão linear tem o valor MAE ligeiramente mais baixo, indicando uma média menor de erros. Vamos testar estes dois modelos. \n",
    "\n"
   ]
  },
  {
   "cell_type": "code",
   "execution_count": 10,
   "id": "e49f7b19-d462-44d1-aa5b-10681ce79750",
   "metadata": {},
   "outputs": [],
   "source": [
    "# Lendo as informações do novo filme\n",
    "\n",
    "new_movie = {\n",
    "    'series_title': 'The Shawshank Redemption',\n",
    "    'released_year': '1994',\n",
    "    'certificate': 'A',\n",
    "    'runtime': 142,\n",
    "    'genre': 'Drama',\n",
    "    'overview': 'Two imprisoned men bond over a number of years, finding solace and eventual redemption through acts of common decency.',\n",
    "    'meta_score': 80.0,\n",
    "    'director': 'Frank Darabont',\n",
    "    'star1': 'Tim Robbins',\n",
    "    'star2': 'Morgan Freeman',\n",
    "    'star3': 'Bob Gunton',\n",
    "    'star4': 'William Sadler',\n",
    "    'no_of_votes': 2343110,\n",
    "    'gross': '28341469',\n",
    "}\n",
    "\n",
    "df_new_movie = pd.DataFrame([new_movie])\n",
    "\n",
    "# Label Encoding para variáveis categóricas\n",
    "label_encoder = LabelEncoder()\n",
    "df_new_movie['certificate'] = label_encoder.fit_transform(df_new_movie['certificate'])\n",
    "df_new_movie['genre'] = label_encoder.fit_transform(df_new_movie['genre'])\n",
    "\n",
    "# Ajustar tipos de dados numéricos\n",
    "df_new_movie['released_year'] = df_new_movie['released_year'].astype(int)\n",
    "df_new_movie['meta_score'] = df_new_movie['meta_score'].astype(float)\n",
    "df_new_movie['no_of_votes'] = df_new_movie['no_of_votes'].astype(int)\n",
    "df_new_movie['gross'] = df_new_movie['gross'].astype(int)\n",
    "\n",
    "# Extrair as características do novo filme\n",
    "X_new_movie = df_new_movie[['certificate', 'released_year', 'runtime', 'genre', 'meta_score', 'no_of_votes', 'gross']]\n"
   ]
  },
  {
   "cell_type": "code",
   "execution_count": 11,
   "id": "30a9490e-e4d2-4663-8183-c79fc150d285",
   "metadata": {},
   "outputs": [
    {
     "name": "stdout",
     "output_type": "stream",
     "text": [
      "Modelo Floresta Aleatória\n",
      "A previsão da nota do IMDb para o filme 'The Shawshank Redemption' é: [8.758]\n"
     ]
    }
   ],
   "source": [
    "# Floresta aleatória: previsão da nota do IMDb\n",
    "imdb_rating_prediction_rf = rf_model.predict(X_new_movie)\n",
    "\n",
    "print('Modelo Floresta Aleatória')\n",
    "print(f\"A previsão da nota do IMDb para o filme 'The Shawshank Redemption' é: {imdb_rating_prediction_rf}\")"
   ]
  },
  {
   "cell_type": "code",
   "execution_count": 12,
   "id": "09b57522-af7d-4d0e-aff1-c0a40376b4d0",
   "metadata": {},
   "outputs": [
    {
     "name": "stdout",
     "output_type": "stream",
     "text": [
      "Modelo Regressão Linear\n",
      "A previsão da nota do IMDb para o filme 'The Shawshank Redemption' é: [9.15818103]\n"
     ]
    }
   ],
   "source": [
    "# Regressão linear: previsão da nota do IMDb\n",
    "imdb_rating_prediction_rl = rl_model.predict(X_new_movie)\n",
    "\n",
    "print('Modelo Regressão Linear')\n",
    "print(f\"A previsão da nota do IMDb para o filme 'The Shawshank Redemption' é: {imdb_rating_prediction_rl}\")"
   ]
  },
  {
   "cell_type": "markdown",
   "id": "48712e26-9c8a-486a-b9f3-c4fe2af5b533",
   "metadata": {},
   "source": [
    "A nota real do filme no IMDB é 9.3. Nesse caso, o modelo de Floresta Aleatória apresentou um erro maior do que o modelo de Regressão Linear, que obteve um resultado mais próximo da nota real.\n",
    "\n",
    "Considerando que estamos lidando com notas de 0 a 10 e que desejamos que todos os erros tenham o mesmo peso, a métrica MAE é a mais adequada. Portanto, recomendamos a utilização do modelo de Regressão Linear para esta aplicação."
   ]
  },
  {
   "cell_type": "code",
   "execution_count": 13,
   "id": "6e375f59-734c-4421-8a5e-0f1276d80aed",
   "metadata": {},
   "outputs": [],
   "source": [
    "# Salvando o modelo\n",
    "\n",
    "import pickle\n",
    "with open(\"rl_model.pkl\", 'wb') as f:\n",
    "    pickle.dump(rl_model, f)"
   ]
  },
  {
   "cell_type": "code",
   "execution_count": null,
   "id": "7614518d-8abb-486e-860b-bc43b5469a9f",
   "metadata": {},
   "outputs": [],
   "source": []
  }
 ],
 "metadata": {
  "kernelspec": {
   "display_name": "Python 3 (ipykernel)",
   "language": "python",
   "name": "python3"
  },
  "language_info": {
   "codemirror_mode": {
    "name": "ipython",
    "version": 3
   },
   "file_extension": ".py",
   "mimetype": "text/x-python",
   "name": "python",
   "nbconvert_exporter": "python",
   "pygments_lexer": "ipython3",
   "version": "3.12.4"
  }
 },
 "nbformat": 4,
 "nbformat_minor": 5
}
